{
  "nbformat": 4,
  "nbformat_minor": 0,
  "metadata": {
    "colab": {
      "provenance": []
    },
    "kernelspec": {
      "name": "python3",
      "display_name": "Python 3"
    },
    "language_info": {
      "name": "python"
    }
  },
  "cells": [
    {
      "cell_type": "code",
      "execution_count": 1,
      "metadata": {
        "colab": {
          "base_uri": "https://localhost:8080/"
        },
        "id": "ppvP1ni7_Q0T",
        "outputId": "a9862012-ce84-43e6-a91e-00ec242a8a9f"
      },
      "outputs": [
        {
          "output_type": "stream",
          "name": "stdout",
          "text": [
            "Longest Repeating Subsequence of AABEBCDD is: ABD\n"
          ]
        }
      ],
      "source": [
        "# Lrs\n",
        "\n",
        "def longest_repeating_subsequence(s):\n",
        "    n = len(s)\n",
        "    dp = [[0] * (n + 1) for _ in range(n + 1)]\n",
        "\n",
        "    for i in range(1, n + 1):\n",
        "        for j in range(1, n + 1):\n",
        "            if s[i - 1] == s[j - 1] and i != j:\n",
        "                dp[i][j] = 1 + dp[i - 1][j - 1]\n",
        "            else:\n",
        "                dp[i][j] = max(dp[i - 1][j], dp[i][j - 1])\n",
        "\n",
        "    i, j = n, n\n",
        "    lrs = []\n",
        "    while i > 0 and j > 0:\n",
        "        if s[i - 1] == s[j - 1] and i != j:\n",
        "            lrs.append(s[i - 1])\n",
        "            i -= 1\n",
        "            j -= 1\n",
        "        elif dp[i - 1][j] > dp[i][j - 1]:\n",
        "            i -= 1\n",
        "        else:\n",
        "            j -= 1\n",
        "\n",
        "    lrs.reverse()\n",
        "    return ''.join(lrs)\n",
        "\n",
        "\n",
        "input_str = \"AABEBCDD\"\n",
        "result = longest_repeating_subsequence(input_str)\n",
        "print(f\"Longest Repeating Subsequence of {input_str} is: {result}\")\n"
      ]
    }
  ]
}